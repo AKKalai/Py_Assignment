{
 "cells": [
  {
   "cell_type": "code",
   "execution_count": 1,
   "metadata": {},
   "outputs": [],
   "source": [
    "import numpy as np\n",
    "import pandas as pd"
   ]
  },
  {
   "cell_type": "markdown",
   "metadata": {},
   "source": [
    "##### 1. What are escape characters, and how do you use them?\n",
    "The backslash \"\\\" is a special character, also called the \"escape\" character\n",
    "It can be done by adding a backslash (\\) before the character you want to escape.\n",
    "ex:\n",
    "K = John\\'s\n",
    "print(K)"
   ]
  },
  {
   "cell_type": "code",
   "execution_count": 5,
   "metadata": {},
   "outputs": [
    {
     "name": "stdout",
     "output_type": "stream",
     "text": [
      "John's\n"
     ]
    }
   ],
   "source": [
    "K = 'John\\'s'\n",
    "print(K)"
   ]
  },
  {
   "cell_type": "markdown",
   "metadata": {},
   "source": [
    "##### 2. What do the escape characters n and t stand for?\n",
    "\\n- for newline and \\t for tab "
   ]
  },
  {
   "cell_type": "markdown",
   "metadata": {},
   "source": [
    "##### 3. What is the way to include backslash characters in a string?\n",
    "\n",
    "\\\\ - to imclude backslash character in a string"
   ]
  },
  {
   "cell_type": "code",
   "execution_count": 7,
   "metadata": {},
   "outputs": [
    {
     "name": "stdout",
     "output_type": "stream",
     "text": [
      "c:\\users\\Application\n"
     ]
    }
   ],
   "source": [
    "print('c:\\\\users\\\\Application')"
   ]
  },
  {
   "cell_type": "markdown",
   "metadata": {},
   "source": [
    "##### 4. The string 'Howl's Moving Castle'; is a correct value. Why isn't the single quote character in the\n",
    "        word Howl's not escaped a problem?\n",
    "       - The single quote in  Howl's Moving Castle is fine because quotes is used  to mark the beginning and end of the string.\n",
    "    "
   ]
  },
  {
   "cell_type": "markdown",
   "metadata": {},
   "source": [
    "##### 5. How do you write a string of newlines if you don&#39;t want to use the n character?\n",
    "Multiline strings allow to use newlines in strings without the \\n escape character.\n",
    "\n"
   ]
  },
  {
   "cell_type": "markdown",
   "metadata": {},
   "source": [
    "##### 6. What are the values of the given expressions?\n",
    "'Hello, world!'[1]- 'e'\n",
    "'Hello, world!'[0:5] - 'Hello'\n",
    "'Hello, world!'[:5]- 'Hello'\n",
    "'Hello, world!'[3:] - 'lo world!'"
   ]
  },
  {
   "cell_type": "markdown",
   "metadata": {},
   "source": [
    "##### 7.What are the values of the following expressions?\n",
    "\n",
    "#'Hello'.upper()- 'HELLO'\n",
    "'Hello'.upper.isupper()- True\n",
    "#'Hello'.upper.lower()-'hello'"
   ]
  },
  {
   "cell_type": "code",
   "execution_count": 10,
   "metadata": {},
   "outputs": [],
   "source": [
    "##### 8.What are the values of the following expressions?\n",
    "#    'Remember, remember, the fifth of July.'.split() join'-'('There can only one.'.split())\n",
    "#- ['Remember,', 'remember,', 'the', 'fifth', 'of', 'November.']\n",
    "#- 'There-can-be-only-one.'"
   ]
  },
  {
   "cell_type": "markdown",
   "metadata": {},
   "source": [
    "##### 9. What are the methods for right-justifying, left-justifying, and centering a string?\n",
    "The rjust(), ljust(), and center() string methods, respectively\n",
    "\n"
   ]
  },
  {
   "cell_type": "markdown",
   "metadata": {},
   "source": [
    "##### 10. What is the best way to remove whitespace characters from the start or end?\n",
    "\n",
    "The lstrip() and rstrip() methods remove whitespace from the left and right ends of a string, respectively."
   ]
  }
 ],
 "metadata": {
  "kernelspec": {
   "display_name": "Python 3",
   "language": "python",
   "name": "python3"
  },
  "language_info": {
   "codemirror_mode": {
    "name": "ipython",
    "version": 3
   },
   "file_extension": ".py",
   "mimetype": "text/x-python",
   "name": "python",
   "nbconvert_exporter": "python",
   "pygments_lexer": "ipython3",
   "version": "3.8.3"
  }
 },
 "nbformat": 4,
 "nbformat_minor": 4
}
