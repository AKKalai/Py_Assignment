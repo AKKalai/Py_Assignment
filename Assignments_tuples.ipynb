{
 "cells": [
  {
   "cell_type": "code",
   "execution_count": 1,
   "id": "184af15d",
   "metadata": {},
   "outputs": [],
   "source": [
    "import numpy as np\n",
    "import pandas as pd\n",
    "from functools import reduce\n"
   ]
  },
  {
   "cell_type": "markdown",
   "id": "e334ffc0",
   "metadata": {},
   "source": [
    "\n",
    "####  Write a Python program to implement your own myfilter() function which works exactly  like Python's built-in function filter()"
   ]
  },
  {
   "cell_type": "code",
   "execution_count": 2,
   "id": "7aa85bb5",
   "metadata": {},
   "outputs": [
    {
     "name": "stdout",
     "output_type": "stream",
     "text": [
      "myfilter function result:  [2, 4, 6]\n",
      "Built in filter function result:  [2, 4, 6]\n"
     ]
    }
   ],
   "source": [
    "def even_check(n):\n",
    "    if n%2==0:\n",
    "        return True\n",
    "    else:\n",
    "        return False\n",
    "    \n",
    "def myfilter(function,sequence):\n",
    "    my_list =[]\n",
    "    for element in sequence:\n",
    "        if function(element):\n",
    "            my_list.append(element)\n",
    "    return my_list\n",
    "    \n",
    "l =[2,3,4,5,6,7]\n",
    "print(\"myfilter function result: \", list(myfilter(even_check, l)))\n",
    "print(\"Built in filter function result: \", list(filter(even_check, l)))"
   ]
  },
  {
   "cell_type": "markdown",
   "id": "f38cd2ae",
   "metadata": {},
   "source": [
    "#### Write a Python Program to implement your own myreduce() function which works exactly      like Python's built-in function reduce()"
   ]
  },
  {
   "cell_type": "code",
   "execution_count": 3,
   "id": "2301fba0",
   "metadata": {},
   "outputs": [
    {
     "name": "stdout",
     "output_type": "stream",
     "text": [
      "built in reduce function result:  120\n",
      "my reduce function result:  120\n"
     ]
    }
   ],
   "source": [
    "\n",
    "\n",
    "def product_test(a,b):\n",
    "    return a*b\n",
    "def myreduce(function, sequence):\n",
    "    list_1 =sequence[0]\n",
    "    for list_2 in sequence[1:]:\n",
    "        list_1 = function(list_1,list_2)\n",
    "    return list_1\n",
    "\n",
    "L_NEW = [2,3,4,5]\n",
    "myreduce(product_test,L_NEW)\n",
    "        \n",
    "print(\"built in reduce function result: \", reduce(product_test, L_NEW))\n",
    "print(\"my reduce function result: \", myreduce(product_test, L_NEW))"
   ]
  },
  {
   "cell_type": "markdown",
   "id": "35c73e03",
   "metadata": {},
   "source": [
    "#### Implement List comprehensions"
   ]
  },
  {
   "cell_type": "code",
   "execution_count": 4,
   "id": "ec3ccc48",
   "metadata": {},
   "outputs": [
    {
     "data": {
      "text/plain": [
       "['x', 'xx', 'xxx', 'xxxx', 'y', 'yy', 'yyy', 'yyyy', 'z', 'zz', 'zzz', 'zzzz']"
      ]
     },
     "execution_count": 4,
     "metadata": {},
     "output_type": "execute_result"
    }
   ],
   "source": [
    "[A*i for A in 'xyz' for i in range(1,5)]\n"
   ]
  },
  {
   "cell_type": "code",
   "execution_count": 5,
   "id": "0b54d9ca",
   "metadata": {},
   "outputs": [
    {
     "data": {
      "text/plain": [
       "['x', 'y', 'z', 'xx', 'yy', 'zz', 'xxx', 'yyy', 'zzz', 'xxxx', 'yyyy', 'zzzz']"
      ]
     },
     "execution_count": 5,
     "metadata": {},
     "output_type": "execute_result"
    }
   ],
   "source": [
    "[A*i for i in range(1,5) for A in 'xyz']"
   ]
  },
  {
   "cell_type": "code",
   "execution_count": 6,
   "id": "db842bb7",
   "metadata": {},
   "outputs": [
    {
     "name": "stdout",
     "output_type": "stream",
     "text": [
      "Output with original reduce function:  72\n",
      "Output with custom myreduce function:  72\n"
     ]
    }
   ],
   "source": [
    "def minus(a, b):\n",
    "    return a-b\n",
    "\n",
    "\n",
    "l = [100, 3, 2, 1, 9, 6, 7]\n",
    "\n",
    "print(\"Output with original reduce function: \", reduce(minus, l))\n",
    "\n",
    "# creating custom myreduce function\n",
    "def myreduce(function, sequence):\n",
    "    first_ele = sequence[0]  # take the first element from sequence\n",
    "    # as first is taken, we will start from second element and iterate\n",
    "    for next_ele in sequence[1:]:\n",
    "        first_ele = function(first_ele, next_ele)\n",
    "    return first_ele\n",
    "\n",
    "\n",
    "print(\"Output with custom myreduce function: \", myreduce(minus, l))"
   ]
  },
  {
   "cell_type": "code",
   "execution_count": null,
   "id": "3bc7e6a6",
   "metadata": {},
   "outputs": [],
   "source": []
  }
 ],
 "metadata": {
  "kernelspec": {
   "display_name": "Python 3 (ipykernel)",
   "language": "python",
   "name": "python3"
  },
  "language_info": {
   "codemirror_mode": {
    "name": "ipython",
    "version": 3
   },
   "file_extension": ".py",
   "mimetype": "text/x-python",
   "name": "python",
   "nbconvert_exporter": "python",
   "pygments_lexer": "ipython3",
   "version": "3.9.7"
  }
 },
 "nbformat": 4,
 "nbformat_minor": 5
}
