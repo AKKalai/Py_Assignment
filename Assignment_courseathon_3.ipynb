{
 "cells": [
  {
   "cell_type": "code",
   "execution_count": 1,
   "metadata": {},
   "outputs": [],
   "source": [
    "import numpy as np\n",
    "import pandas as pd"
   ]
  },
  {
   "cell_type": "markdown",
   "metadata": {},
   "source": [
    "##### 1. Why are functions advantageous to have in your programs?\n",
    "- It's is easy for reusablity and reduce the duplicate code.\n",
    "- It's easy to update the new changes"
   ]
  },
  {
   "cell_type": "markdown",
   "metadata": {},
   "source": [
    "##### 2. When does the code in a function run: when it's specified or when it's called?\n",
    "- the code in a function is executed only when the function is called.\n"
   ]
  },
  {
   "cell_type": "markdown",
   "metadata": {},
   "source": [
    "##### 3. What statement creates a function?\n",
    "- def statement creates a function"
   ]
  },
  {
   "cell_type": "markdown",
   "metadata": {},
   "source": [
    "##### 4. What is the difference between a function and a function call?\n",
    "- Function defines  by using the keyword def and code can be written in def clause\n",
    "- Function call- It executes the code in def clause, evaluate and  return it's value\n"
   ]
  },
  {
   "cell_type": "markdown",
   "metadata": {},
   "source": [
    "##### 5. How many global scopes are there in a Python program? How many local scopes?\n",
    "\n",
    "- There is only one global scope and local scope can be defined as many required when function is getting created. "
   ]
  },
  {
   "cell_type": "markdown",
   "metadata": {},
   "source": [
    "##### 6. What happens to variables in a local scope when the function call returns?\n",
    "- When the function returns it's value, the local variable are destroyed. The local variable is used only within the function\n"
   ]
  },
  {
   "cell_type": "markdown",
   "metadata": {},
   "source": [
    "##### 7. What is the concept of a return value? Is it possible to have a return value in an expression?\n",
    "\n",
    "- A return value is the value that a function call evaluates the expression. Like any value, a return value can be used as part of an expression."
   ]
  },
  {
   "cell_type": "markdown",
   "metadata": {},
   "source": [
    "##### 8. If a function does not have a return statement, what is the return value of a call to that function?\n",
    "- If a function doesnot have a return statement, it returns the value as None."
   ]
  },
  {
   "cell_type": "markdown",
   "metadata": {},
   "source": [
    "##### 9. How do you make a function variable refer to the global variable?\n",
    "- When we use the global keyword to declare a variable as a global, then the function variable will refer to the global variable "
   ]
  },
  {
   "cell_type": "markdown",
   "metadata": {},
   "source": [
    "##### 10. What is the data type of None?\n",
    "- The data type of None is NoneType"
   ]
  },
  {
   "cell_type": "markdown",
   "metadata": {},
   "source": [
    "##### 11. What does the sentence import areallyourpetsnamederic do?\n",
    "- That import statement imports a module named areallyourpetsnamederic. "
   ]
  },
  {
   "cell_type": "markdown",
   "metadata": {},
   "source": [
    "##### 12. If you had a bacon() feature in a spam module, what would you call it after importing spam?\n",
    "- The function can be called by spam.bacon()"
   ]
  },
  {
   "cell_type": "markdown",
   "metadata": {},
   "source": [
    "##### 13.  What can you do to save a programme from crashing if it encounters an error?\n",
    "\n",
    "- error handling can beused to notify the user why the error occured. It can be done by using the code with try clause"
   ]
  },
  {
   "cell_type": "markdown",
   "metadata": {},
   "source": [
    "##### 14. What is the purpose of the try clause? What is the purpose of the except clause?\n",
    "\n",
    "- The try block is usedto  test a block of code for errors. The except block is used to handle the error."
   ]
  },
  {
   "cell_type": "code",
   "execution_count": null,
   "metadata": {},
   "outputs": [],
   "source": []
  }
 ],
 "metadata": {
  "kernelspec": {
   "display_name": "Python 3",
   "language": "python",
   "name": "python3"
  },
  "language_info": {
   "codemirror_mode": {
    "name": "ipython",
    "version": 3
   },
   "file_extension": ".py",
   "mimetype": "text/x-python",
   "name": "python",
   "nbconvert_exporter": "python",
   "pygments_lexer": "ipython3",
   "version": "3.8.3"
  }
 },
 "nbformat": 4,
 "nbformat_minor": 4
}
