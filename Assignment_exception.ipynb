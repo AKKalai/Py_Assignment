{
 "cells": [
  {
   "cell_type": "code",
   "execution_count": 1,
   "id": "ca7793ce",
   "metadata": {},
   "outputs": [],
   "source": [
    "import numpy as np\n",
    "import pandas as pd\n"
   ]
  },
  {
   "cell_type": "markdown",
   "id": "620049fc",
   "metadata": {},
   "source": [
    "####  Write a function to compute 5/0 and use try/except to catch the exceptions"
   ]
  },
  {
   "cell_type": "code",
   "execution_count": 4,
   "id": "e27f0abb",
   "metadata": {},
   "outputs": [
    {
     "name": "stdout",
     "output_type": "stream",
     "text": [
      "It is not a valid one. Can't divide by zero\n",
      "Try with different number\n"
     ]
    }
   ],
   "source": [
    "def fun():\n",
    "    try:\n",
    "        a =5/0\n",
    "    except ZeroDivisionError:\n",
    "            print(\"It is not a valid one. Can't divide by zero\")\n",
    "    finally:\n",
    "        print(\"Try with different number\")\n",
    "fun()"
   ]
  },
  {
   "cell_type": "markdown",
   "id": "fc44bf46",
   "metadata": {},
   "source": [
    "#### Implement a Python program to generate all sentences"
   ]
  },
  {
   "cell_type": "code",
   "execution_count": 8,
   "id": "1d48477e",
   "metadata": {},
   "outputs": [
    {
     "name": "stdout",
     "output_type": "stream",
     "text": [
      "Americans Play Baseball\n",
      "Americans Play cricket\n",
      "Americans watch Baseball\n",
      "Americans watch cricket\n",
      "Indians Play Baseball\n",
      "Indians Play cricket\n",
      "Indians watch Baseball\n",
      "Indians watch cricket\n"
     ]
    }
   ],
   "source": [
    "subject=[\"Americans\", \"Indians\"]\n",
    "verb=[\"Play\", \"watch\"]\n",
    "obj=[\"Baseball\",\"cricket\"]\n",
    "\n",
    "# Use list comprehension instead of looping over each of the predicates\n",
    "sen_list = [(sub+\" \"+ vb + \" \" + obt) for sub in subject for vb in verb for obt in obj]\n",
    "for sentences in sen_list:\n",
    " print (sentences)"
   ]
  },
  {
   "cell_type": "code",
   "execution_count": null,
   "id": "bba2eda2",
   "metadata": {},
   "outputs": [],
   "source": []
  }
 ],
 "metadata": {
  "kernelspec": {
   "display_name": "Python 3 (ipykernel)",
   "language": "python",
   "name": "python3"
  },
  "language_info": {
   "codemirror_mode": {
    "name": "ipython",
    "version": 3
   },
   "file_extension": ".py",
   "mimetype": "text/x-python",
   "name": "python",
   "nbconvert_exporter": "python",
   "pygments_lexer": "ipython3",
   "version": "3.9.7"
  }
 },
 "nbformat": 4,
 "nbformat_minor": 5
}
