{
 "cells": [
  {
   "cell_type": "code",
   "execution_count": 1,
   "metadata": {},
   "outputs": [],
   "source": [
    "import numpy as np\n",
    "import pandas as pd\n"
   ]
  },
  {
   "cell_type": "markdown",
   "metadata": {},
   "source": [
    "#### Write a function so that the columns of the output matrix are powers of the input\n",
    "vector.\n"
   ]
  },
  {
   "cell_type": "code",
   "execution_count": 2,
   "metadata": {},
   "outputs": [
    {
     "name": "stdout",
     "output_type": "stream",
     "text": [
      "The input array is: [2 6 9] \n",
      "\n",
      "Number of columns in output matrix: 3 \n",
      "\n",
      "Vander matrix of the input array in decreasing order of powers:\n",
      "\n",
      " [[ 4  2  1]\n",
      " [36  6  1]\n",
      " [81  9  1]] \n",
      "\n",
      "Vander matrix of the input array in increasing order of powers:\n",
      "\n",
      " [[ 1  2  4]\n",
      " [ 1  6 36]\n",
      " [ 1  9 81]] \n",
      "\n"
     ]
    }
   ],
   "source": [
    "def generate_vandermatrix(in_vect, n , increasing = False):\n",
    "    if not increasing:\n",
    "        result_matrix = np.array([x**(n-i-1) for x in in_vect for i in range(n)]).reshape(in_vect.size,n)\n",
    "    elif increasing:\n",
    "        result_matrix = np.array([x**i for x in in_vector for i in range(n)]).reshape(in_vect.size,n)\n",
    "    \n",
    "    return result_matrix\n",
    "    \n",
    "in_vector =np.array([2,6,9])\n",
    "no_columns = 3\n",
    "result_matrix_Desc = generate_vandermatrix(in_vector, no_columns , False)\n",
    "result_matrix_Asc = generate_vandermatrix(in_vector, no_columns , True)\n",
    "print(\"The input array is:\",in_vector,\"\\n\")\n",
    "print(\"Number of columns in output matrix:\",no_columns,\"\\n\")\n",
    "print(\"Vander matrix of the input array in decreasing order of powers:\\n\\n\",result_matrix_Desc,\"\\n\")\n",
    "print(\"Vander matrix of the input array in increasing order of powers:\\n\\n\",result_matrix_Asc,\"\\n\")\n",
    "\n",
    "\n",
    "\n",
    "            "
   ]
  },
  {
   "cell_type": "markdown",
   "metadata": {},
   "source": [
    "#####  Write a function to find moving average in an array over a window . Test it over [3, 5, 7, 2, 8, 10, 11, 65,                              72, 81, 99, 100, 150] and window of 3"
   ]
  },
  {
   "cell_type": "code",
   "execution_count": 3,
   "metadata": {},
   "outputs": [
    {
     "name": "stdout",
     "output_type": "stream",
     "text": [
      "The input sequence is = [  3   5   7   2   8  10  11  65  72  81  99 100 150] \n",
      "\n",
      "The moving average of the sequence with the rolling window size 3 is =\n",
      " [  5.           4.66666667   5.66666667   6.66666667   9.66666667\n",
      "  28.66666667  49.33333333  72.66666667  84.          93.33333333\n",
      " 116.33333333] \n",
      "\n",
      "The moving average sequence should have 11 values.\n",
      "\n",
      "The moving average sequence has 11 values.\n"
     ]
    }
   ],
   "source": [
    "def moving_average(input_array, k=3) :\n",
    "    input_array_shape = input_array.shape[0]\n",
    "    \n",
    "    #Create a vector of zeroes with the shape as n-k+1\n",
    "    \n",
    "    out_array_moving_avg = np.zeros(input_array_shape - k + 1)\n",
    "    \n",
    "    # Iterate over the input array. While doing so, for every element, get the next k elements through slicing, \n",
    "    # computer their mean and add to the output array.\n",
    "    \n",
    "    for i in range(k, input_array_shape + 1):\n",
    "        out_array_moving_avg[i-k] = input_array[i-k:i].mean()\n",
    "    \n",
    "    return out_array_moving_avg   \n",
    "\n",
    "\n",
    "a = np.array([3, 5, 7, 2, 8, 10, 11, 65, 72, 81, 99, 100, 150])\n",
    "win_size = 3\n",
    "moving_average_arr = moving_average(a, win_size)\n",
    "\n",
    "print(\"The input sequence is =\", a, \"\\n\")\n",
    "print(\"The moving average of the sequence with the rolling window size\", win_size, \"is =\\n\", moving_average_arr, \"\\n\")\n",
    "print(\"The moving average sequence should have\", a.shape[0] - win_size + 1, \"values.\\n\")\n",
    "print(\"The moving average sequence has\", moving_average_arr.shape[0], \"values.\")"
   ]
  },
  {
   "cell_type": "code",
   "execution_count": null,
   "metadata": {},
   "outputs": [],
   "source": []
  }
 ],
 "metadata": {
  "kernelspec": {
   "display_name": "Python 3",
   "language": "python",
   "name": "python3"
  },
  "language_info": {
   "codemirror_mode": {
    "name": "ipython",
    "version": 3
   },
   "file_extension": ".py",
   "mimetype": "text/x-python",
   "name": "python",
   "nbconvert_exporter": "python",
   "pygments_lexer": "ipython3",
   "version": "3.8.3"
  }
 },
 "nbformat": 4,
 "nbformat_minor": 4
}
