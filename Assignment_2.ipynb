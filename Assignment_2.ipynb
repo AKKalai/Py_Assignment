{
 "cells": [
  {
   "cell_type": "code",
   "execution_count": 14,
   "metadata": {},
   "outputs": [
    {
     "name": "stdin",
     "output_type": "stream",
     "text": [
      "Enter the number of rows: 5\n"
     ]
    },
    {
     "name": "stdout",
     "output_type": "stream",
     "text": [
      "*  \n",
      "*  *  \n",
      "*  *  *  \n",
      "*  *  *  *  \n",
      "*  *  *  *  *  \n",
      "*  *  *  *  \n",
      "*  *  *  \n",
      "*  *  \n",
      "*  \n",
      "\n"
     ]
    }
   ],
   "source": [
    "#QN-1\n",
    "#Create the below pattern using nested for loop in Python.\n",
    "Rows = int(input(\"Enter the number of rows:\"))\n",
    "for i in range(Rows):\n",
    "    for k in range(i+1):\n",
    "        print(\"* \", end = \" \")\n",
    "    print(\"\\r\")\n",
    "for i in range(Rows, 0 ,-1):\n",
    "    for k in range(i-1):\n",
    "        print(\"* \", end = \" \")\n",
    "    print(\"\\r\")"
   ]
  },
  {
   "cell_type": "code",
   "execution_count": 15,
   "metadata": {},
   "outputs": [
    {
     "name": "stdin",
     "output_type": "stream",
     "text": [
      "Enter the name Python\n"
     ]
    },
    {
     "name": "stdout",
     "output_type": "stream",
     "text": [
      "The name in reverse order nohtyP\n"
     ]
    }
   ],
   "source": [
    "#qn-2\n",
    "#Write a Python program to reverse a word after accepting the input from the user.\n",
    "Name = input(\"Enter the name\")\n",
    "print(\"The name in reverse order\", Name[::-1])\n",
    "    "
   ]
  },
  {
   "cell_type": "code",
   "execution_count": null,
   "metadata": {},
   "outputs": [],
   "source": []
  }
 ],
 "metadata": {
  "kernelspec": {
   "display_name": "Python 3",
   "language": "python",
   "name": "python3"
  },
  "language_info": {
   "codemirror_mode": {
    "name": "ipython",
    "version": 3
   },
   "file_extension": ".py",
   "mimetype": "text/x-python",
   "name": "python",
   "nbconvert_exporter": "python",
   "pygments_lexer": "ipython3",
   "version": "3.8.3"
  }
 },
 "nbformat": 4,
 "nbformat_minor": 4
}
