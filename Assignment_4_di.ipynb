{
 "cells": [
  {
   "cell_type": "code",
   "execution_count": 26,
   "id": "e6cf130b",
   "metadata": {},
   "outputs": [],
   "source": [
    "import numpy as np\n",
    "import pandas as pd\n",
    "import re\n"
   ]
  },
  {
   "cell_type": "markdown",
   "id": "9cbc5906",
   "metadata": {},
   "source": [
    "- 1.1) Write a Python Program(with class concepts) to find the area of the triangle using the below \n",
    "   formula."
   ]
  },
  {
   "cell_type": "code",
   "execution_count": null,
   "id": "9bd7ba6b",
   "metadata": {},
   "outputs": [],
   "source": [
    "class Triangle_parent:\n",
    "    def __init__(self, a,b,c): \n",
    "        self.a = float(a)\n",
    "        self.b = float(b)\n",
    "        self.c = float(c)\n",
    "                  \n",
    "    def input_sides(self):\n",
    "        self.a, self.b, self.c = float(input(\"a = \")), float(input(\"b = \")), float(input(\"c = \"))\n",
    "        \n",
    "\n",
    "class area_triangle(Triangle_parent):\n",
    "    def area_get(self):\n",
    "        s = (self.a+self.b+self.c)/2\n",
    "        return float((s*(s-self.a)*(s-self.b)*(s-self.c)))** 0.5\n",
    "    \n",
    "    \n",
    "t = area_triangle(a, b, c)\n",
    "t.input_sides()\n",
    "print(\"The area is:\", str(t.area_get()))\n",
    "        \n",
    "   "
   ]
  },
  {
   "cell_type": "markdown",
   "id": "6f20ebe4",
   "metadata": {},
   "source": [
    "- 1.2) Write a function filter_long_words() that takes a list of words and an integer n and returns \n",
    "       the list of words that are longer than n."
   ]
  },
  {
   "cell_type": "code",
   "execution_count": 23,
   "id": "54ccae64",
   "metadata": {},
   "outputs": [
    {
     "name": "stdout",
     "output_type": "stream",
     "text": [
      "Enter the minimum length of words:3\n",
      "Enter the number of words:5\n",
      "Enter the list of words\n",
      "dss\n",
      "fdf\n",
      "fdgfghgjgj\n",
      "fgfhgjhkjhk\n",
      "cfhghjhkhuioipop\n",
      "['fdgfghgjgj', 'fgfhgjhkjhk', 'cfhghjhkhuioipop']\n"
     ]
    }
   ],
   "source": [
    "def filter_long_words():\n",
    "    list_words =[]\n",
    "    list_words_New =[]\n",
    "    n = int(input(\"Enter the minimum length of words:\"))\n",
    "    m = int(input(\"Enter the number of words:\"))\n",
    "    print(\"Enter the list of words\")\n",
    "    for i in range(m):\n",
    "        words = input()\n",
    "        list_words.append(words)\n",
    "        if(len(words)> n):\n",
    "            list_words_New.append(words)\n",
    "        \n",
    "    print(list_words_New)\n",
    "    \n",
    "filter_long_words()"
   ]
  },
  {
   "cell_type": "markdown",
   "id": "2fa39116",
   "metadata": {},
   "source": [
    "- 2.1)  Write a Python program using function concept that maps list of words into a list of integers \n",
    "        representing the lengths of the corresponding words.\n"
   ]
  },
  {
   "cell_type": "code",
   "execution_count": 11,
   "id": "b038fe78",
   "metadata": {},
   "outputs": [
    {
     "name": "stdout",
     "output_type": "stream",
     "text": [
      "[5, 4, 6]\n"
     ]
    }
   ],
   "source": [
    "def length_words(words):\n",
    "    return [len(word) for word in words]\n",
    "\n",
    "if __name__ == \"__main__\":\n",
    "    words = ['hello', 'good', 'KMSKKV']\n",
    "    print(length_words(words))\n",
    "  "
   ]
  },
  {
   "cell_type": "code",
   "execution_count": 16,
   "id": "26121bcf",
   "metadata": {},
   "outputs": [
    {
     "data": {
      "text/plain": [
       "[5, 4, 6]"
      ]
     },
     "execution_count": 16,
     "metadata": {},
     "output_type": "execute_result"
    }
   ],
   "source": [
    "def length_OF_words(words_1):\n",
    "    length =[]\n",
    "    for word in words_1:\n",
    "        length.append(len(word))\n",
    "    return length\n",
    "\n",
    "\n",
    "length_OF_words(['hello', 'good', 'KMSKKV'])   "
   ]
  },
  {
   "cell_type": "markdown",
   "id": "df83c43c",
   "metadata": {},
   "source": [
    "- 2.2) Write a Python function which takes a character (i.e. a string of length 1) and returns True if \n",
    "      it is a vowel, False otherwise."
   ]
  },
  {
   "cell_type": "code",
   "execution_count": 39,
   "id": "fcb02257",
   "metadata": {},
   "outputs": [
    {
     "name": "stdout",
     "output_type": "stream",
     "text": [
      "enter the character to check of length 1:e\n"
     ]
    },
    {
     "data": {
      "text/plain": [
       "True"
      ]
     },
     "execution_count": 39,
     "metadata": {},
     "output_type": "execute_result"
    }
   ],
   "source": [
    "def vowel_check():\n",
    "    chc = input(\"enter the character to check of length 1:\")\n",
    "    vowels = \"AaEeIiOoUu\"\n",
    "    pattern = \"^[a-z|A-Z]{1}$\"\n",
    "    test = re.match(pattern, chc)\n",
    "    if test:\n",
    "        return True if chc in vowels else False\n",
    "    else:\n",
    "        print(\"Enter a character of length 1\")\n",
    "    return\n",
    "\n",
    "vowel_check()\n",
    "        "
   ]
  },
  {
   "cell_type": "code",
   "execution_count": null,
   "id": "ac5f6186",
   "metadata": {},
   "outputs": [],
   "source": [
    "\n"
   ]
  },
  {
   "cell_type": "code",
   "execution_count": null,
   "id": "dfae1205",
   "metadata": {},
   "outputs": [],
   "source": []
  }
 ],
 "metadata": {
  "kernelspec": {
   "display_name": "Python 3 (ipykernel)",
   "language": "python",
   "name": "python3"
  },
  "language_info": {
   "codemirror_mode": {
    "name": "ipython",
    "version": 3
   },
   "file_extension": ".py",
   "mimetype": "text/x-python",
   "name": "python",
   "nbconvert_exporter": "python",
   "pygments_lexer": "ipython3",
   "version": "3.9.7"
  }
 },
 "nbformat": 4,
 "nbformat_minor": 5
}
